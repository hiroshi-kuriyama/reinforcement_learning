{
 "cells": [
  {
   "cell_type": "markdown",
   "metadata": {},
   "source": [
    "# DQNを実装する\n",
    "## TODO\n",
    "1. SARSAやモンテカルロ法も試してみる\n",
    "2. 状態の変数をいくつか欠落させても学習できるのかを実験\n",
    "3. すでに学習済みのQ関数を使ってGYMを動かし、そのmemoryのみでうまく学習できるかを実験"
   ]
  },
  {
   "cell_type": "code",
   "execution_count": 145,
   "metadata": {},
   "outputs": [
    {
     "data": {
      "text/plain": [
       "device(type='cpu')"
      ]
     },
     "execution_count": 145,
     "metadata": {},
     "output_type": "execute_result"
    }
   ],
   "source": [
    "import random\n",
    "import numpy as np\n",
    "import copy\n",
    "import gym\n",
    "import matplotlib.pyplot as plt\n",
    "%matplotlib inline\n",
    "import torch\n",
    "import torch.nn as nn\n",
    "import torch.optim as optim\n",
    "import torch.nn.functional as F\n",
    "import torchvision.transforms as T\n",
    "# if gpu is to be used\n",
    "device = torch.device(\"cuda\" if torch.cuda.is_available() else \"cpu\")\n",
    "device"
   ]
  },
  {
   "cell_type": "code",
   "execution_count": 146,
   "metadata": {},
   "outputs": [],
   "source": [
    "env = gym.make('CartPole-v0')\n",
    "obs_size = env.observation_space.shape[0]\n",
    "act_size = env.action_space.n"
   ]
  },
  {
   "cell_type": "code",
   "execution_count": 147,
   "metadata": {},
   "outputs": [],
   "source": [
    "class DQN(nn.Module):\n",
    "    def __init__(self):\n",
    "        super(DQN, self).__init__()\n",
    "        self.fc1 = nn.Linear(obs_size, 32)\n",
    "        self.fc2 = nn.Linear(32, 32)\n",
    "        self.fc3 = nn.Linear(32, act_size)\n",
    "        \n",
    "    def forward(self, x):\n",
    "        x = F.relu(self.fc1(x))\n",
    "        x = F.relu(self.fc2(x))\n",
    "        x = F.relu(self.fc3(x))\n",
    "        return x"
   ]
  },
  {
   "cell_type": "code",
   "execution_count": 148,
   "metadata": {},
   "outputs": [],
   "source": [
    "q_net = DQN().to(device)\n",
    "criterion = nn.SmoothL1Loss()\n",
    "optimizer = optim.Adam(q_net.parameters(), lr=0.0001)#, alpha=0.95, eps=0.01)\n",
    "\n",
    "q_net_tmp = copy.deepcopy(q_net)"
   ]
  },
  {
   "cell_type": "code",
   "execution_count": 149,
   "metadata": {},
   "outputs": [],
   "source": [
    "def obs2device(obs_np):\n",
    "    obs_np = obs_np.astype('float32') #float64だとpytorchでエラーがでる\n",
    "    obs = torch.from_numpy(obs_np)\n",
    "    obs = obs.view(-1, obs_size)\n",
    "    return obs.to(device)"
   ]
  },
  {
   "cell_type": "markdown",
   "metadata": {},
   "source": [
    "### Memory"
   ]
  },
  {
   "cell_type": "code",
   "execution_count": 150,
   "metadata": {},
   "outputs": [],
   "source": [
    "# make an element for Replay Memory\n",
    "def make_memory(obs_np, q_net_tmp, epsilon, step):\n",
    "    q_net_tmp.eval()\n",
    "    obs = obs2device(obs_np)\n",
    "    qs = q_net_tmp(obs)\n",
    "    act = qs.data.numpy().argmax()\n",
    "    if np.random.rand() < epsilon:\n",
    "        act = env.action_space.sample()\n",
    "    nxt_obs_np, rew, done, info = env.step(act)\n",
    "    if done:\n",
    "        if step < 195:\n",
    "            rew = -1\n",
    "        else:\n",
    "            rew = 1\n",
    "    else:\n",
    "        rew = 0\n",
    "    # 状態、行動、報酬、行動後の状態、ゲーム終了フラグ\n",
    "    return (obs_np, act, rew, nxt_obs_np, done)"
   ]
  },
  {
   "cell_type": "code",
   "execution_count": 151,
   "metadata": {},
   "outputs": [
    {
     "data": {
      "text/plain": [
       "array([False, False, False, False, False, False, False, False, False,\n",
       "       False, False, False, False, False, False, False, False, False,\n",
       "       False, False, False, False, False,  True, False, False, False,\n",
       "       False,  True, False, False,  True])"
      ]
     },
     "execution_count": 151,
     "metadata": {},
     "output_type": "execute_result"
    }
   ],
   "source": [
    "dones"
   ]
  },
  {
   "cell_type": "code",
   "execution_count": 152,
   "metadata": {},
   "outputs": [
    {
     "data": {
      "text/plain": [
       "(32,)"
      ]
     },
     "execution_count": 152,
     "metadata": {},
     "output_type": "execute_result"
    }
   ],
   "source": [
    "dones.shape"
   ]
  },
  {
   "cell_type": "code",
   "execution_count": 153,
   "metadata": {},
   "outputs": [
    {
     "data": {
      "text/plain": [
       "torch.Size([32, 2])"
      ]
     },
     "execution_count": 153,
     "metadata": {},
     "output_type": "execute_result"
    }
   ],
   "source": [
    "obss = obs2device(obss_np)\n",
    "q_net(obss).size()"
   ]
  },
  {
   "cell_type": "code",
   "execution_count": 154,
   "metadata": {},
   "outputs": [
    {
     "name": "stdout",
     "output_type": "stream",
     "text": [
      "15\n",
      "12\n",
      "10\n",
      "10\n",
      "11\n",
      "13\n",
      "130\n",
      "39\n",
      "186\n",
      "89\n",
      "105\n",
      "71\n",
      "69\n",
      "100\n",
      "98\n",
      "69\n",
      "147\n",
      "200\n",
      "CPU times: user 48.2 s, sys: 286 ms, total: 48.5 s\n",
      "Wall time: 48.8 s\n"
     ]
    }
   ],
   "source": [
    "%%time\n",
    "EPISODE_NUM = 500\n",
    "BATCH_SIZE = 32\n",
    "GAMMA = 0.99\n",
    "EPSILON_INIT = 0.5\n",
    "EPSILON_REDUCTION = 0.005\n",
    "EPSILON_MIN = 0.1\n",
    "MEMORY_SIZE = 10000\n",
    "TARGET_UPDATE = 10\n",
    "\n",
    "memory = []\n",
    "epsilon = EPSILON_INIT\n",
    "obs_np = env.reset()\n",
    "done = False\n",
    "\n",
    "total_rew_log = []\n",
    "loss_log = []\n",
    "\n",
    "for i in range(BATCH_SIZE):\n",
    "    if done or step > 195:\n",
    "        obs_np = env.reset()\n",
    "        total_rew = 0\n",
    "        step = 0\n",
    "    tmp = make_memory(obs_np, q_net_tmp, epsilon, step)\n",
    "    memory.append(tmp)\n",
    "    obs_np = tmp[3]\n",
    "    done = tmp[-1]\n",
    "    rew = tmp[2]\n",
    "    \n",
    "\n",
    "for episode_i in range(EPISODE_NUM):\n",
    "\n",
    "    # Replay Memory: 現状のNNで環境を動かした結果を蓄積\n",
    "    total_rew = 0\n",
    "    step = 0\n",
    "    done = False\n",
    "    obs_np = env.reset()\n",
    "    for i in range(201):\n",
    "        if done:\n",
    "            if step >= 195:\n",
    "                total_rew = 1\n",
    "            total_rew_log.append(total_rew)\n",
    "            break\n",
    "        tmp = make_memory(obs_np, q_net_tmp, epsilon, step)\n",
    "        memory.append(tmp)\n",
    "        # memoryが十分溜まっているなら古い方から削除\n",
    "        if len(memory) > MEMORY_SIZE:\n",
    "            memory.pop(0)\n",
    "        obs_np = tmp[3]\n",
    "        done = tmp[-1]\n",
    "        rew = tmp[2]\n",
    "        total_rew += rew\n",
    "        step += 1\n",
    "        \n",
    "        \n",
    "        batch = np.array(random.sample(memory, BATCH_SIZE)) # 経験ミニバッチ\n",
    "        obss_np = np.array(batch[:,0].tolist(), dtype=\"float32\").reshape((BATCH_SIZE, obs_size))\n",
    "        acts = np.array(batch[:,1].tolist(), dtype=\"int32\")\n",
    "        rews = np.array(batch[:,2].tolist(), dtype=\"int32\")\n",
    "        nxt_obss_np = np.array(batch[:,3].tolist(), dtype=\"float32\").reshape((BATCH_SIZE, obs_size))\n",
    "        dones = np.array(batch[:,4].tolist(), dtype=\"bool\")\n",
    "        \n",
    "        obss = obs2device(obss_np)\n",
    "        q_net.eval()\n",
    "        qses = q_net(obss)\n",
    "        \n",
    "        nxt_obss = obs2device(nxt_obss_np)\n",
    "        q_net_tmp.eval()\n",
    "        nxt_qses = q_net_tmp(nxt_obss)\n",
    "        max_nxt_qs, _ = torch.max(nxt_qses.data, 1)\n",
    "        target = qses.clone()\n",
    "        # RMで実際に取った行動の箇所だけ更新\n",
    "        # (それ以外の行動については更新しない → Lossが0なので更新されない)\n",
    "        for j in range(BATCH_SIZE):\n",
    "            target[j, acts[j]] = rews[j] + GAMMA * max_nxt_qs[j] * (not dones[j])\n",
    "        optimizer.zero_grad()\n",
    "        q_net.train()\n",
    "        loss = criterion(qses, target)\n",
    "        loss_log.append(loss.item())\n",
    "        loss.backward()\n",
    "        optimizer.step()\n",
    "    \n",
    "    # 固定していたnetの更新\n",
    "    if episode_i % TARGET_UPDATE == 0:\n",
    "        q_net_tmp = copy.deepcopy(q_net)\n",
    "\n",
    "    # EPSILONを下げる\n",
    "    if epsilon > EPSILON_MIN:\n",
    "        epsilon -= EPSILON_REDUCTION\n",
    "    \n",
    "    # 各stepを平均して表示\n",
    "    if episode_i % 20 == 0:\n",
    "        print(step)\n",
    "#         print(sum(total_rew_log[-20:])/20)\n",
    "        \n",
    "    # 10回中9回成功したら強制終了\n",
    "    if (sum(total_rew_log[-10:])/10) >= 0.9:\n",
    "        break"
   ]
  },
  {
   "cell_type": "code",
   "execution_count": 155,
   "metadata": {},
   "outputs": [
    {
     "data": {
      "text/plain": [
       "[<matplotlib.lines.Line2D at 0x7f327fd309b0>]"
      ]
     },
     "execution_count": 155,
     "metadata": {},
     "output_type": "execute_result"
    },
    {
     "data": {
      "image/png": "[encoded data removed]",
      "text/plain": [
       "<Figure size 432x288 with 1 Axes>"
      ]
     },
     "metadata": {
      "needs_background": "light"
     },
     "output_type": "display_data"
    }
   ],
   "source": [
    "# LOSSの変化\n",
    "left = np.array(range(len(loss_log)))\n",
    "height = np.array(loss_log)\n",
    "plt.plot(left, height)"
   ]
  },
  {
   "cell_type": "code",
   "execution_count": 156,
   "metadata": {},
   "outputs": [
    {
     "data": {
      "text/plain": [
       "[<matplotlib.lines.Line2D at 0x7f327fb7aef0>]"
      ]
     },
     "execution_count": 156,
     "metadata": {},
     "output_type": "execute_result"
    },
    {
     "data": {
      "image/png": "[encoded data removed]",
      "text/plain": [
       "<Figure size 432x288 with 1 Axes>"
      ]
     },
     "metadata": {
      "needs_background": "light"
     },
     "output_type": "display_data"
    }
   ],
   "source": [
    "# REWARDの変化\n",
    "left = np.array(range(len(total_rew_log)))\n",
    "height = np.array(total_rew_log)\n",
    "plt.plot(left, height)"
   ]
  },
  {
   "cell_type": "markdown",
   "metadata": {},
   "source": [
    "## 学習済みのQ関数でGYMを動かす"
   ]
  },
  {
   "cell_type": "code",
   "execution_count": 158,
   "metadata": {},
   "outputs": [
    {
     "name": "stdout",
     "output_type": "stream",
     "text": [
      "119\n"
     ]
    }
   ],
   "source": [
    "obs_np = env.reset()\n",
    "step = 0\n",
    "done = False\n",
    "while not done and step < 200:\n",
    "    tmp = make_memory(obs_np, q_net, 0.1, step)\n",
    "    obs_np = tmp[3]\n",
    "    done = tmp[-1]\n",
    "    env.render()\n",
    "    step += 1\n",
    "print(step)\n",
    "env.close()"
   ]
  },
  {
   "cell_type": "raw",
   "metadata": {},
   "source": [
    "# 録画用\n",
    "env = gym.wrappers.Monitor(env, 'path-to-video', force=True)\n",
    "obs_np = env.reset()\n",
    "step = 0\n",
    "done = False\n",
    "while not done and step < 200:\n",
    "    tmp = make_memory(obs_np, q_net_tmp, 0.25)\n",
    "    obs_np = tmp[3]\n",
    "    done = tmp[-1]\n",
    "    env.render()\n",
    "    step += 1\n",
    "print(step)\n",
    "env.close()"
   ]
  },
  {
   "cell_type": "code",
   "execution_count": null,
   "metadata": {},
   "outputs": [],
   "source": []
  }
 ],
 "metadata": {
  "kernelspec": {
   "display_name": "Python 3",
   "language": "python",
   "name": "python3"
  },
  "language_info": {
   "codemirror_mode": {
    "name": "ipython",
    "version": 3
   },
   "file_extension": ".py",
   "mimetype": "text/x-python",
   "name": "python",
   "nbconvert_exporter": "python",
   "pygments_lexer": "ipython3",
   "version": "3.7.2"
  }
 },
 "nbformat": 4,
 "nbformat_minor": 2
}
